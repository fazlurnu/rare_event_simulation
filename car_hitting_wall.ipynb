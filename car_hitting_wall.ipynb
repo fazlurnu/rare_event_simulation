{
 "cells": [
  {
   "cell_type": "markdown",
   "id": "e05c420c",
   "metadata": {},
   "source": [
    "# Hypothetical Car Example\n",
    "\n",
    "A car driver in dense fog is heading to a wall at position $d_{\\text{wall}}$. If the car is at distance $d_{\\text{fog}}$ from the wall, then the driver sees the wall for the first time. Then, it takes the driver a random reaction delay to start braking, with a density $p_{\\text{delay}}(s)$. During the reaction delay, the velocity of the car does not change; after the reaction delay, the car decelerates at constant value \\( $a_{\\text{min}}$. The aim is to estimate the probability $\\gamma$ that the car hits the wall.\n",
    "\n",
    "From the moment that the car reaches distance $d_{\\text{fog}}$ from the wall at velocity $v_0$, it takes the sum of reaction delay $T_{\\text{delay}}$ and the time of deceleration $T_{\\text{dec}}$ until the car is at a standstill. This implies:\n",
    "\n",
    "$$\n",
    "\\gamma = P\\{ v_0 T_{\\text{delay}} + v_0 T_{\\text{dec}} + \\frac{1}{2} a_{\\text{min}} T_{\\text{dec}}^2 \\geq d_{\\text{fog}} \\} \\tag{13}\n",
    "$$\n",
    "\n",
    "Elaboration of (13) yields:\n",
    "\n",
    "$$\n",
    "\\gamma = P\\{ T_{\\text{delay}} \\geq \\frac{1}{2} v_0 / a_{\\text{min}} + d_{\\text{fog}} / v_0 \\} \\tag{14}\n",
    "$$\n",
    "\n",
    "If we assume a Rayleigh density:\n",
    "\n",
    "$$\n",
    "p_{\\text{delay}}(s) = \\frac{s}{\\mu^2} e^{-s^2/(2\\mu^2)}\n",
    "$$\n",
    "\n",
    "and we write:\n",
    "\n",
    "$$\n",
    "T_C = \\frac{1}{2} v_0 / a_{\\text{min}} + d_{\\text{fog}} / v_0\n",
    "$$\n",
    "\n",
    "evaluation of (14) yields:\n",
    "\n",
    "$$\n",
    "\\gamma = \\int_{T_C}^{+\\infty} \\frac{t}{\\mu^2} e^{-t^2/(2\\mu^2)} dt = -e^{-t^2/(2\\mu^2)} \\Big|_{t=T_C}^{+\\infty} = e^{-t^2/(2\\mu^2)} \\Big|_{t=T_C} \\tag{15}\n",
    "$$\n",
    "\n",
    "**The code below** gives the analytically obtained $\\gamma$ results for various mean reaction delays $\\mu$, and parameter settings:\n",
    "\n",
    "- $d_{\\text{wall}} = 300$ m\n",
    "- $d_{\\text{fog}} = 120$ m\n",
    "- $v_0 = 72$ km/h $= 20$ m/s\n",
    "- $a_{\\text{min}} = -4 $ m/s$^2$"
   ]
  },
  {
   "cell_type": "code",
   "execution_count": null,
   "id": "cf645553",
   "metadata": {},
   "outputs": [],
   "source": [
    "import numpy as np\n",
    "import matplotlib.pyplot as plt\n",
    "from scipy.stats import rayleigh\n",
    "\n",
    "# Define the parameter mu\n",
    "plt.figure(figsize=(8, 5))\n",
    "\n",
    "for mu in [0.6, 0.7, 0.8, 0.9]:\n",
    "    # Define the range for t\n",
    "    t_values = np.linspace(0, 5, 500)\n",
    "\n",
    "    # Compute the Rayleigh density values\n",
    "    pdf_values = rayleigh.pdf(t_values, scale=mu)\n",
    "    # Plot the Rayleigh density function\n",
    "    plt.plot(t_values, pdf_values, label=f'$\\mu = {mu}$')\n",
    "    \n",
    "plt.xlabel('t')\n",
    "plt.ylabel('Density')\n",
    "plt.title(r'Rayleigh PDF: $f(t) = \\frac{t}{\\mu^2} e^{-t^2 / (2\\mu^2)}$')\n",
    "plt.legend()\n",
    "# plt.grid(True)\n",
    "plt.show()\n"
   ]
  },
  {
   "cell_type": "code",
   "execution_count": null,
   "id": "0d360707",
   "metadata": {},
   "outputs": [],
   "source": [
    "import numpy as np\n",
    "from IPython.display import display, Math\n",
    "\n",
    "v0 = 20\n",
    "a_min = -4\n",
    "d_fog = 120\n",
    "\n",
    "T_c = 1/2*v0/a_min + d_fog/v0\n",
    "\n",
    "for mu in [0.6, 0.7, 0.8, 0.9]:\n",
    "    gamma = np.exp(-(T_c**2) / (2*mu**2))\n",
    "\n",
    "    display(Math(r\"\\mu = \" + f\"{mu}\" + \", \\gamma = \" + f\"{gamma:.6e}\"))"
   ]
  },
  {
   "cell_type": "code",
   "execution_count": 4,
   "id": "b8e5737d",
   "metadata": {},
   "outputs": [
    {
     "data": {
      "text/plain": [
       "2.9220781640624993e-07"
      ]
     },
     "execution_count": 4,
     "metadata": {},
     "output_type": "execute_result"
    }
   ],
   "source": [
    "0.25*0.3*0.31*0.25*0.3*0.31*0.25*0.3*0.31*0.25*0.3*0.31"
   ]
  }
 ],
 "metadata": {
  "kernelspec": {
   "display_name": "Python 3 (ipykernel)",
   "language": "python",
   "name": "python3"
  },
  "language_info": {
   "codemirror_mode": {
    "name": "ipython",
    "version": 3
   },
   "file_extension": ".py",
   "mimetype": "text/x-python",
   "name": "python",
   "nbconvert_exporter": "python",
   "pygments_lexer": "ipython3",
   "version": "3.10.12"
  }
 },
 "nbformat": 4,
 "nbformat_minor": 5
}
